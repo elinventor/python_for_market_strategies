{
 "cells": [
  {
   "cell_type": "code",
   "execution_count": 18,
   "metadata": {},
   "outputs": [
    {
     "data": {
      "text/html": [
       "<div>\n",
       "<style scoped>\n",
       "    .dataframe tbody tr th:only-of-type {\n",
       "        vertical-align: middle;\n",
       "    }\n",
       "\n",
       "    .dataframe tbody tr th {\n",
       "        vertical-align: top;\n",
       "    }\n",
       "\n",
       "    .dataframe thead th {\n",
       "        text-align: right;\n",
       "    }\n",
       "</style>\n",
       "<table border=\"1\" class=\"dataframe\">\n",
       "  <thead>\n",
       "    <tr style=\"text-align: right;\">\n",
       "      <th></th>\n",
       "      <th>dates</th>\n",
       "      <th>estimated</th>\n",
       "      <th>reported</th>\n",
       "      <th>surprise</th>\n",
       "    </tr>\n",
       "  </thead>\n",
       "  <tbody>\n",
       "    <tr>\n",
       "      <th>0</th>\n",
       "      <td>Oct 27, 2021, 5 AMEST</td>\n",
       "      <td>-</td>\n",
       "      <td>-</td>\n",
       "      <td>-</td>\n",
       "    </tr>\n",
       "    <tr>\n",
       "      <th>1</th>\n",
       "      <td>Jul 28, 2021, 5 AMEST</td>\n",
       "      <td>-</td>\n",
       "      <td>-</td>\n",
       "      <td>-</td>\n",
       "    </tr>\n",
       "    <tr>\n",
       "      <th>2</th>\n",
       "      <td>Apr 28, 2021, 5 AMEST</td>\n",
       "      <td>-</td>\n",
       "      <td>-</td>\n",
       "      <td>-</td>\n",
       "    </tr>\n",
       "    <tr>\n",
       "      <th>3</th>\n",
       "      <td>Jan 27, 2021, 4 PMEST</td>\n",
       "      <td>1.4</td>\n",
       "      <td>-</td>\n",
       "      <td>-</td>\n",
       "    </tr>\n",
       "    <tr>\n",
       "      <th>4</th>\n",
       "      <td>Oct 29, 2020, 12 AMEST</td>\n",
       "      <td>0.7</td>\n",
       "      <td>0.73</td>\n",
       "      <td>+4.29</td>\n",
       "    </tr>\n",
       "    <tr>\n",
       "      <th>...</th>\n",
       "      <td>...</td>\n",
       "      <td>...</td>\n",
       "      <td>...</td>\n",
       "      <td>...</td>\n",
       "    </tr>\n",
       "    <tr>\n",
       "      <th>95</th>\n",
       "      <td>Jul 17, 1996, 12 AMEST</td>\n",
       "      <td>-0.04</td>\n",
       "      <td>-0.02</td>\n",
       "      <td>+51.62</td>\n",
       "    </tr>\n",
       "    <tr>\n",
       "      <th>96</th>\n",
       "      <td>Apr 17, 1996, 12 AMEST</td>\n",
       "      <td>-0.05</td>\n",
       "      <td>-0.07</td>\n",
       "      <td>-40.6</td>\n",
       "    </tr>\n",
       "    <tr>\n",
       "      <th>97</th>\n",
       "      <td>Jan 17, 1996, 12 AMEST</td>\n",
       "      <td>-0.01</td>\n",
       "      <td>-0.02</td>\n",
       "      <td>-58.6</td>\n",
       "    </tr>\n",
       "    <tr>\n",
       "      <th>98</th>\n",
       "      <td>Oct 18, 1995, 12 AMEST</td>\n",
       "      <td>0.02</td>\n",
       "      <td>0.02</td>\n",
       "      <td>-8</td>\n",
       "    </tr>\n",
       "    <tr>\n",
       "      <th>99</th>\n",
       "      <td>Jul 20, 1995, 12 AMEST</td>\n",
       "      <td>0.03</td>\n",
       "      <td>0.03</td>\n",
       "      <td>-5.15</td>\n",
       "    </tr>\n",
       "  </tbody>\n",
       "</table>\n",
       "<p>100 rows × 4 columns</p>\n",
       "</div>"
      ],
      "text/plain": [
       "                     dates estimated reported surprise\n",
       "0    Oct 27, 2021, 5 AMEST         -        -        -\n",
       "1    Jul 28, 2021, 5 AMEST         -        -        -\n",
       "2    Apr 28, 2021, 5 AMEST         -        -        -\n",
       "3    Jan 27, 2021, 4 PMEST       1.4        -        -\n",
       "4   Oct 29, 2020, 12 AMEST       0.7     0.73    +4.29\n",
       "..                     ...       ...      ...      ...\n",
       "95  Jul 17, 1996, 12 AMEST     -0.04    -0.02   +51.62\n",
       "96  Apr 17, 1996, 12 AMEST     -0.05    -0.07    -40.6\n",
       "97  Jan 17, 1996, 12 AMEST     -0.01    -0.02    -58.6\n",
       "98  Oct 18, 1995, 12 AMEST      0.02     0.02       -8\n",
       "99  Jul 20, 1995, 12 AMEST      0.03     0.03    -5.15\n",
       "\n",
       "[100 rows x 4 columns]"
      ]
     },
     "execution_count": 18,
     "metadata": {},
     "output_type": "execute_result"
    }
   ],
   "source": [
    "## GET Earnings List\n",
    "import requests\n",
    "import pandas as pd\n",
    "from bs4 import BeautifulSoup as bs\n",
    "\n",
    "def get_earnings_dates(symbol):\n",
    "    r = requests.get('https://finance.yahoo.com/calendar/earnings?symbol={}'.format(symbol))\n",
    "    soup = bs(r.content, 'lxml')\n",
    "    # Using attribute = value selector\n",
    "    earnigs_df = pd.DataFrame() \n",
    "    earnigs_df['dates'] = [td.text for td in soup.select('[aria-label=\"Earnings Date\"]')]\n",
    "    earnigs_df['estimated'] = [st.text for st in soup.select('[aria-label=\"EPS Estimate\"]')]\n",
    "    earnigs_df['reported'] = [rp.text for rp in soup.select('[aria-label=\"Reported EPS\"]')]\n",
    "    earnigs_df['surprise'] = [sp.text for sp in soup.select('[aria-label=\"Surprise(%)\"]')]\n",
    "    return earnigs_df\n",
    "\n",
    "earnings_lst = get_earnings_dates('AAPL')\n",
    "earnings_lst"
   ]
  },
  {
   "cell_type": "code",
   "execution_count": null,
   "metadata": {},
   "outputs": [],
   "source": []
  },
  {
   "cell_type": "code",
   "execution_count": 19,
   "metadata": {},
   "outputs": [
    {
     "data": {
      "text/plain": [
       "datetime.datetime(2021, 1, 27, 16, 0)"
      ]
     },
     "execution_count": 19,
     "metadata": {},
     "output_type": "execute_result"
    }
   ],
   "source": [
    "## GET Next Earning\n",
    "import datetime\n",
    "import re\n",
    "\n",
    "def get_now():\n",
    "    d_format = '%b %d %Y'\n",
    "    return datetime.datetime.strptime(datetime.datetime.today().strftime(d_format), d_format)\n",
    "\n",
    "def parse_enring_date(single_date):\n",
    "    # Clear date string\n",
    "    date_time_str = single_date.replace(',', '').replace(\n",
    "        ' AMEST', 'AM').replace(' PMEST', 'PM')\n",
    "    # Reshape\n",
    "    date_time = datetime.datetime.strptime(date_time_str, '%b %d %Y %I%p')\n",
    "    return date_time\n",
    "\n",
    "def nearest(items, pivot):\n",
    "    return min(items, key=lambda x: abs(x - pivot))\n",
    "\n",
    "def get_next_erarning(dates_lst):\n",
    "    now = get_now()\n",
    "    date_list = [ parse_enring_date(e_date) for e_date in dates_lst if parse_enring_date(e_date) >= now ]\n",
    "    result = False if not date_list else nearest(date_list, now)\n",
    "    return result\n",
    "\n",
    "get_next_erarning(earnings_lst['dates'])"
   ]
  },
  {
   "cell_type": "code",
   "execution_count": 1,
   "metadata": {},
   "outputs": [
    {
     "data": {
      "text/html": [
       "<div>\n",
       "<style scoped>\n",
       "    .dataframe tbody tr th:only-of-type {\n",
       "        vertical-align: middle;\n",
       "    }\n",
       "\n",
       "    .dataframe tbody tr th {\n",
       "        vertical-align: top;\n",
       "    }\n",
       "\n",
       "    .dataframe thead th {\n",
       "        text-align: right;\n",
       "    }\n",
       "</style>\n",
       "<table border=\"1\" class=\"dataframe\">\n",
       "  <thead>\n",
       "    <tr style=\"text-align: right;\">\n",
       "      <th></th>\n",
       "      <th>Date</th>\n",
       "      <th>Dividend</th>\n",
       "      <th>Type</th>\n",
       "      <th>Payment Date</th>\n",
       "      <th>Yield</th>\n",
       "    </tr>\n",
       "  </thead>\n",
       "  <tbody>\n",
       "    <tr>\n",
       "      <th>0</th>\n",
       "      <td>2020-11-06</td>\n",
       "      <td>0.205</td>\n",
       "      <td>quarterly</td>\n",
       "      <td>2020-11-12</td>\n",
       "      <td>0,63%</td>\n",
       "    </tr>\n",
       "    <tr>\n",
       "      <th>1</th>\n",
       "      <td>2020-08-31</td>\n",
       "      <td>0.205</td>\n",
       "      <td>quarterly</td>\n",
       "      <td>2020-08-28</td>\n",
       "      <td>0,74%</td>\n",
       "    </tr>\n",
       "    <tr>\n",
       "      <th>2</th>\n",
       "      <td>2020-08-07</td>\n",
       "      <td>0.820</td>\n",
       "      <td>quarterly</td>\n",
       "      <td>2020-08-13</td>\n",
       "      <td>0,72%</td>\n",
       "    </tr>\n",
       "    <tr>\n",
       "      <th>3</th>\n",
       "      <td>2020-05-08</td>\n",
       "      <td>0.820</td>\n",
       "      <td>quarterly</td>\n",
       "      <td>2020-05-14</td>\n",
       "      <td>0,86%</td>\n",
       "    </tr>\n",
       "    <tr>\n",
       "      <th>4</th>\n",
       "      <td>2020-02-07</td>\n",
       "      <td>0.770</td>\n",
       "      <td>quarterly</td>\n",
       "      <td>2020-02-13</td>\n",
       "      <td>1,07%</td>\n",
       "    </tr>\n",
       "    <tr>\n",
       "      <th>...</th>\n",
       "      <td>...</td>\n",
       "      <td>...</td>\n",
       "      <td>...</td>\n",
       "      <td>...</td>\n",
       "      <td>...</td>\n",
       "    </tr>\n",
       "    <tr>\n",
       "      <th>59</th>\n",
       "      <td>1989-11-17</td>\n",
       "      <td>0.110</td>\n",
       "      <td>trailing_twelve_months</td>\n",
       "      <td>1989-11-24</td>\n",
       "      <td>-</td>\n",
       "    </tr>\n",
       "    <tr>\n",
       "      <th>60</th>\n",
       "      <td>1989-08-21</td>\n",
       "      <td>0.100</td>\n",
       "      <td>trailing_twelve_months</td>\n",
       "      <td>1989-08-28</td>\n",
       "      <td>-</td>\n",
       "    </tr>\n",
       "    <tr>\n",
       "      <th>61</th>\n",
       "      <td>1989-05-22</td>\n",
       "      <td>0.100</td>\n",
       "      <td>trailing_twelve_months</td>\n",
       "      <td>1989-05-29</td>\n",
       "      <td>-</td>\n",
       "    </tr>\n",
       "    <tr>\n",
       "      <th>62</th>\n",
       "      <td>1989-02-17</td>\n",
       "      <td>0.100</td>\n",
       "      <td>trailing_twelve_months</td>\n",
       "      <td>1989-02-24</td>\n",
       "      <td>-</td>\n",
       "    </tr>\n",
       "    <tr>\n",
       "      <th>63</th>\n",
       "      <td>1988-11-21</td>\n",
       "      <td>0.100</td>\n",
       "      <td>trailing_twelve_months</td>\n",
       "      <td>1988-11-28</td>\n",
       "      <td>-</td>\n",
       "    </tr>\n",
       "  </tbody>\n",
       "</table>\n",
       "<p>64 rows × 5 columns</p>\n",
       "</div>"
      ],
      "text/plain": [
       "         Date  Dividend                    Type Payment Date  Yield\n",
       "0  2020-11-06     0.205               quarterly   2020-11-12  0,63%\n",
       "1  2020-08-31     0.205               quarterly   2020-08-28  0,74%\n",
       "2  2020-08-07     0.820               quarterly   2020-08-13  0,72%\n",
       "3  2020-05-08     0.820               quarterly   2020-05-14  0,86%\n",
       "4  2020-02-07     0.770               quarterly   2020-02-13  1,07%\n",
       "..        ...       ...                     ...          ...    ...\n",
       "59 1989-11-17     0.110  trailing_twelve_months   1989-11-24      -\n",
       "60 1989-08-21     0.100  trailing_twelve_months   1989-08-28      -\n",
       "61 1989-05-22     0.100  trailing_twelve_months   1989-05-29      -\n",
       "62 1989-02-17     0.100  trailing_twelve_months   1989-02-24      -\n",
       "63 1988-11-21     0.100  trailing_twelve_months   1988-11-28      -\n",
       "\n",
       "[64 rows x 5 columns]"
      ]
     },
     "execution_count": 1,
     "metadata": {},
     "output_type": "execute_result"
    }
   ],
   "source": [
    "## Dividends\n",
    "import investpy\n",
    "dividends = investpy.stocks.get_stock_dividends(stock='AAPL', country='united states')\n",
    "dividends"
   ]
  },
  {
   "cell_type": "code",
   "execution_count": 5,
   "metadata": {
    "scrolled": false
   },
   "outputs": [],
   "source": [
    "# https://pypi.org/project/yahoofinancials/\n",
    "from yahoofinancials import YahooFinancials\n",
    "\n",
    "ticker = 'AAPL'\n",
    "yahoo_financials = YahooFinancials(ticker)\n"
   ]
  },
  {
   "cell_type": "code",
   "execution_count": 7,
   "metadata": {},
   "outputs": [
    {
     "name": "stdout",
     "output_type": "stream",
     "text": [
      "{'AAPL': [{'date': 1581085800, 'formatted_date': '2020-02-07', 'amount': 0.1925}, {'date': 1588944600, 'formatted_date': '2020-05-08', 'amount': 0.205}, {'date': 1596807000, 'formatted_date': '2020-08-07', 'amount': 0.205}, {'date': 1604673000, 'formatted_date': '2020-11-06', 'amount': 0.205}]}\n"
     ]
    }
   ],
   "source": [
    "start_date = '2020-01-15'\n",
    "end_date = '2021-05-15'\n",
    "yahoo_financials = YahooFinancials(['AAPL'])\n",
    "print(yahoo_financials.get_daily_dividend_data(start_date, end_date))"
   ]
  },
  {
   "cell_type": "code",
   "execution_count": 20,
   "metadata": {},
   "outputs": [
    {
     "data": {
      "text/html": [
       "<div>\n",
       "<style scoped>\n",
       "    .dataframe tbody tr th:only-of-type {\n",
       "        vertical-align: middle;\n",
       "    }\n",
       "\n",
       "    .dataframe tbody tr th {\n",
       "        vertical-align: top;\n",
       "    }\n",
       "\n",
       "    .dataframe thead th {\n",
       "        text-align: right;\n",
       "    }\n",
       "</style>\n",
       "<table border=\"1\" class=\"dataframe\">\n",
       "  <thead>\n",
       "    <tr style=\"text-align: right;\">\n",
       "      <th></th>\n",
       "      <th>Value</th>\n",
       "    </tr>\n",
       "  </thead>\n",
       "  <tbody>\n",
       "    <tr>\n",
       "      <th>Earnings Date</th>\n",
       "      <td>2021-01-27 00:00:00</td>\n",
       "    </tr>\n",
       "    <tr>\n",
       "      <th>Earnings Average</th>\n",
       "      <td>1.4</td>\n",
       "    </tr>\n",
       "    <tr>\n",
       "      <th>Earnings Low</th>\n",
       "      <td>1.23</td>\n",
       "    </tr>\n",
       "    <tr>\n",
       "      <th>Earnings High</th>\n",
       "      <td>1.57</td>\n",
       "    </tr>\n",
       "    <tr>\n",
       "      <th>Revenue Average</th>\n",
       "      <td>102458000000</td>\n",
       "    </tr>\n",
       "    <tr>\n",
       "      <th>Revenue Low</th>\n",
       "      <td>97739000000</td>\n",
       "    </tr>\n",
       "    <tr>\n",
       "      <th>Revenue High</th>\n",
       "      <td>110211000000</td>\n",
       "    </tr>\n",
       "  </tbody>\n",
       "</table>\n",
       "</div>"
      ],
      "text/plain": [
       "                                Value\n",
       "Earnings Date     2021-01-27 00:00:00\n",
       "Earnings Average                  1.4\n",
       "Earnings Low                     1.23\n",
       "Earnings High                    1.57\n",
       "Revenue Average          102458000000\n",
       "Revenue Low               97739000000\n",
       "Revenue High             110211000000"
      ]
     },
     "execution_count": 20,
     "metadata": {},
     "output_type": "execute_result"
    }
   ],
   "source": [
    "import yfinance as yf\n",
    "\n",
    "aapl = yf.Ticker('AAPL')\n",
    "\n",
    "aapl.calendar"
   ]
  },
  {
   "cell_type": "code",
   "execution_count": 22,
   "metadata": {},
   "outputs": [
    {
     "name": "stdout",
     "output_type": "stream",
     "text": [
      "2020-11-06 00:00:00\n"
     ]
    }
   ],
   "source": [
    "from datetime import datetime\n",
    "# if you encounter a \"year is out of range\" error the timestamp\n",
    "# may be in milliseconds, try `ts /= 1000` in that case\n",
    "print(datetime.utcfromtimestamp(aapl.info['exDividendDate']).strftime('%Y-%m-%d %H:%M:%S'))\n"
   ]
  },
  {
   "cell_type": "code",
   "execution_count": 23,
   "metadata": {},
   "outputs": [
    {
     "name": "stdout",
     "output_type": "stream",
     "text": [
      "2020-11-06 00:00:00\n"
     ]
    }
   ],
   "source": [
    "print(datetime.utcfromtimestamp(aapl.info['lastDividendDate']).strftime('%Y-%m-%d %H:%M:%S'))\n"
   ]
  },
  {
   "cell_type": "code",
   "execution_count": 24,
   "metadata": {},
   "outputs": [
    {
     "data": {
      "text/plain": [
       "Date\n",
       "1987-05-11    0.00054\n",
       "1987-08-10    0.00054\n",
       "1987-11-17    0.00071\n",
       "1988-02-12    0.00071\n",
       "1988-05-16    0.00071\n",
       "               ...   \n",
       "2019-11-07    0.19250\n",
       "2020-02-07    0.19250\n",
       "2020-05-08    0.20500\n",
       "2020-08-07    0.20500\n",
       "2020-11-06    0.20500\n",
       "Name: Dividends, Length: 69, dtype: float64"
      ]
     },
     "execution_count": 24,
     "metadata": {},
     "output_type": "execute_result"
    }
   ],
   "source": [
    "aapl.dividends"
   ]
  },
  {
   "cell_type": "code",
   "execution_count": 25,
   "metadata": {},
   "outputs": [
    {
     "name": "stdout",
     "output_type": "stream",
     "text": [
      "Constructing Links.\n",
      "Extracting Federal Reserve Minutes.\n",
      "Retrieving articles.\n",
      "..............................................................................................................................................................................................................................."
     ]
    }
   ],
   "source": [
    "# ========== FED MEETINGS\n",
    "from FedTools import MonetaryPolicyCommittee\n",
    "from FedTools import BeigeBooks\n",
    "from FedTools import FederalReserveMins\n",
    "\n",
    "fed_mins = FederalReserveMins(\n",
    "            main_url = 'https://www.federalreserve.gov', \n",
    "            calendar_url ='https://www.federalreserve.gov/monetarypolicy/fomccalendars.htm',\n",
    "            historical_split = 2014,\n",
    "            verbose = True,\n",
    "            thread_num = 10)\n",
    "\n",
    "dataset = fed_mins.find_minutes()"
   ]
  },
  {
   "cell_type": "code",
   "execution_count": 26,
   "metadata": {},
   "outputs": [
    {
     "data": {
      "text/plain": [
       "<FedTools.FedMins.FederalReserveMins at 0x7fe5fad8c0b8>"
      ]
     },
     "execution_count": 26,
     "metadata": {},
     "output_type": "execute_result"
    }
   ],
   "source": [
    "fed_mins"
   ]
  },
  {
   "cell_type": "code",
   "execution_count": 27,
   "metadata": {},
   "outputs": [
    {
     "data": {
      "text/html": [
       "<div>\n",
       "<style scoped>\n",
       "    .dataframe tbody tr th:only-of-type {\n",
       "        vertical-align: middle;\n",
       "    }\n",
       "\n",
       "    .dataframe tbody tr th {\n",
       "        vertical-align: top;\n",
       "    }\n",
       "\n",
       "    .dataframe thead th {\n",
       "        text-align: right;\n",
       "    }\n",
       "</style>\n",
       "<table border=\"1\" class=\"dataframe\">\n",
       "  <thead>\n",
       "    <tr style=\"text-align: right;\">\n",
       "      <th></th>\n",
       "      <th>Federal_Reserve_Mins</th>\n",
       "    </tr>\n",
       "  </thead>\n",
       "  <tbody>\n",
       "    <tr>\n",
       "      <th>1993-02-03</th>\n",
       "      <td>A meeting of the Federal Open Market Committee...</td>\n",
       "    </tr>\n",
       "    <tr>\n",
       "      <th>1993-03-23</th>\n",
       "      <td>A meeting of the Federal Open Market Committee...</td>\n",
       "    </tr>\n",
       "    <tr>\n",
       "      <th>1993-05-18</th>\n",
       "      <td>A meeting of the Federal Open Market Committee...</td>\n",
       "    </tr>\n",
       "    <tr>\n",
       "      <th>1993-07-07</th>\n",
       "      <td>A meeting of the Federal Open Market Committee...</td>\n",
       "    </tr>\n",
       "    <tr>\n",
       "      <th>1993-08-17</th>\n",
       "      <td>A meeting of the Federal Open Market Committee...</td>\n",
       "    </tr>\n",
       "    <tr>\n",
       "      <th>...</th>\n",
       "      <td>...</td>\n",
       "    </tr>\n",
       "    <tr>\n",
       "      <th>2020-06-10</th>\n",
       "      <td>The Federal Reserve, the central bank of the U...</td>\n",
       "    </tr>\n",
       "    <tr>\n",
       "      <th>2020-07-29</th>\n",
       "      <td>The Federal Reserve, the central bank of the U...</td>\n",
       "    </tr>\n",
       "    <tr>\n",
       "      <th>2020-09-16</th>\n",
       "      <td>The Federal Reserve, the central bank of the U...</td>\n",
       "    </tr>\n",
       "    <tr>\n",
       "      <th>2020-11-05</th>\n",
       "      <td>The Federal Reserve, the central bank of the U...</td>\n",
       "    </tr>\n",
       "    <tr>\n",
       "      <th>2020-12-16</th>\n",
       "      <td>The Federal Reserve, the central bank of the U...</td>\n",
       "    </tr>\n",
       "  </tbody>\n",
       "</table>\n",
       "<p>215 rows × 1 columns</p>\n",
       "</div>"
      ],
      "text/plain": [
       "                                         Federal_Reserve_Mins\n",
       "1993-02-03  A meeting of the Federal Open Market Committee...\n",
       "1993-03-23  A meeting of the Federal Open Market Committee...\n",
       "1993-05-18  A meeting of the Federal Open Market Committee...\n",
       "1993-07-07  A meeting of the Federal Open Market Committee...\n",
       "1993-08-17  A meeting of the Federal Open Market Committee...\n",
       "...                                                       ...\n",
       "2020-06-10  The Federal Reserve, the central bank of the U...\n",
       "2020-07-29  The Federal Reserve, the central bank of the U...\n",
       "2020-09-16  The Federal Reserve, the central bank of the U...\n",
       "2020-11-05  The Federal Reserve, the central bank of the U...\n",
       "2020-12-16  The Federal Reserve, the central bank of the U...\n",
       "\n",
       "[215 rows x 1 columns]"
      ]
     },
     "execution_count": 27,
     "metadata": {},
     "output_type": "execute_result"
    }
   ],
   "source": [
    "dataset"
   ]
  },
  {
   "cell_type": "code",
   "execution_count": null,
   "metadata": {},
   "outputs": [],
   "source": []
  }
 ],
 "metadata": {
  "kernelspec": {
   "display_name": "Python 3",
   "language": "python",
   "name": "python3"
  },
  "language_info": {
   "codemirror_mode": {
    "name": "ipython",
    "version": 3
   },
   "file_extension": ".py",
   "mimetype": "text/x-python",
   "name": "python",
   "nbconvert_exporter": "python",
   "pygments_lexer": "ipython3",
   "version": "3.7.3"
  }
 },
 "nbformat": 4,
 "nbformat_minor": 4
}
